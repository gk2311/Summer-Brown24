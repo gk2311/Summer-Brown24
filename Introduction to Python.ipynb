{
 "cells": [
  {
   "cell_type": "markdown",
   "id": "543bcb9e",
   "metadata": {},
   "source": [
    "# Getting Started with Python\n",
    "\n",
    "Python is an open-source, versatile programming language acclaimed for its readability and straightforward syntax, which makes it ideal for beginners and professionals alike. It's extensively used across various fields, from web development to data science and machine learning.\n",
    "\n",
    "In this notebook, we'll introduce you to Python basics and how to use Jupyter Notebook effectively."
   ]
  },
  {
   "cell_type": "markdown",
   "id": "80439f04",
   "metadata": {},
   "source": [
    "## 1. Basic Syntax and Operations"
   ]
  },
  {
   "cell_type": "code",
   "execution_count": 1,
   "id": "99bcbbc9",
   "metadata": {},
   "outputs": [
    {
     "name": "stdout",
     "output_type": "stream",
     "text": [
      "5\n",
      "5\n",
      "12\n",
      "5.0\n",
      "25\n"
     ]
    }
   ],
   "source": [
    "# Basic Arithmetic Operations\n",
    "print(2 + 3)    # Addition\n",
    "print(7 - 2)    # Subtraction\n",
    "print(3 * 4)    # Multiplication\n",
    "print(10 / 2)   # Division\n",
    "print(5 ** 2)   # Exponentiation"
   ]
  },
  {
   "cell_type": "markdown",
   "id": "6bfd1dd9",
   "metadata": {},
   "source": [
    "## 2. Variables and Data Types\n",
    "\n",
    "\n",
    "### Variable\n",
    "A variable is a storage location paired with a name, which contains some known or unknown quantity of information referred to as a value.\n",
    "\n",
    "### Data Types\n",
    "Data types specify the type of data that a variable can hold. Common data types include integers, floats, strings, and booleans.\n",
    "\n",
    "- **Integer**: Whole numbers (e.g., 5, -3)\n",
    "- **Float**: Decimal numbers (e.g., 3.14, -0.001)\n",
    "- **String**: Sequence of characters (e.g., \"Hello\", \"Python\")\n",
    "- **Boolean**: True or False values\n"
   ]
  },
  {
   "cell_type": "code",
   "execution_count": 2,
   "id": "f1d933d5",
   "metadata": {},
   "outputs": [
    {
     "name": "stdout",
     "output_type": "stream",
     "text": [
      "x = 5\n",
      "y = 3.14\n",
      "name = Python\n",
      "is_python_fun = True\n",
      "<class 'int'>\n",
      "<class 'float'>\n",
      "<class 'str'>\n",
      "<class 'bool'>\n"
     ]
    }
   ],
   "source": [
    "# Variables and Data Types\n",
    "x = 5             # Integer\n",
    "y = 3.14          # Float\n",
    "name = \"Python\"   # String\n",
    "is_python_fun = True  # Boolean\n",
    "\n",
    "# Printing Variables\n",
    "print(\"x =\", x)\n",
    "print(\"y =\", y)\n",
    "print(\"name =\", name)\n",
    "print(\"is_python_fun =\", is_python_fun)\n",
    "\n",
    "# Checking Data Types\n",
    "print(type(x))\n",
    "print(type(y))\n",
    "print(type(name))\n",
    "print(type(is_python_fun))\n"
   ]
  },
  {
   "cell_type": "markdown",
   "id": "6b6ad30c",
   "metadata": {},
   "source": [
    "## 3. Lists and Dictionaries\n",
    "\n",
    "### List\n",
    "A list is an ordered collection of items which can be of different types. Lists are mutable, meaning their elements can be changed.\n",
    "\n",
    "### Dictionary\n",
    "A dictionary is an unordered collection of items. Each item in a dictionary is a key-value pair, where each key is unique.\n",
    "\n"
   ]
  },
  {
   "cell_type": "code",
   "execution_count": 3,
   "id": "877f02c1",
   "metadata": {},
   "outputs": [
    {
     "name": "stdout",
     "output_type": "stream",
     "text": [
      "Numbers: [1, 2, 3, 4, 5]\n",
      "First Element: 1\n",
      "Last Element: 5\n",
      "Person: {'name': 'Alice', 'age': 25, 'city': 'New York'}\n",
      "Name: Alice\n",
      "Age: 25\n"
     ]
    }
   ],
   "source": [
    "# Lists\n",
    "numbers = [1, 2, 3, 4, 5]\n",
    "print(\"Numbers:\", numbers)\n",
    "print(\"First Element:\", numbers[0])\n",
    "print(\"Last Element:\", numbers[-1])\n",
    "\n",
    "# Dictionaries\n",
    "person = {\n",
    "    \"name\": \"Alice\",\n",
    "    \"age\": 25,\n",
    "    \"city\": \"New York\"\n",
    "}\n",
    "print(\"Person:\", person)\n",
    "print(\"Name:\", person[\"name\"])\n",
    "print(\"Age:\", person[\"age\"])"
   ]
  },
  {
   "cell_type": "markdown",
   "id": "a73d50df",
   "metadata": {},
   "source": [
    "## 4. Conditional Statements and Loops\n",
    "\n",
    "### Conditional Statements\n",
    "Conditional statements are used to perform different actions based on different conditions. The most common are `if`, `else`, and `elif` (else if).\n",
    "\n",
    "### Loops\n",
    "Loops are used to repeat a block of code multiple times. The most common types are `for` loops and `while` loops.\n",
    "\n",
    "- **For Loop**: Iterates over a sequence (e.g., list, tuple, dictionary, set, or string).\n",
    "- **While Loop**: Repeats as long as a condition is true."
   ]
  },
  {
   "cell_type": "code",
   "execution_count": 4,
   "id": "c25db234",
   "metadata": {},
   "outputs": [
    {
     "name": "stdout",
     "output_type": "stream",
     "text": [
      "You are an adult.\n",
      "0\n",
      "1\n",
      "2\n",
      "3\n",
      "4\n",
      "0\n",
      "1\n",
      "2\n",
      "3\n",
      "4\n"
     ]
    }
   ],
   "source": [
    "# Conditional Statements\n",
    "age = 18\n",
    "if age >= 18:\n",
    "    print(\"You are an adult.\")\n",
    "else:\n",
    "    print(\"You are a minor.\")\n",
    "\n",
    "# For Loop\n",
    "for i in range(5):\n",
    "    print(i)\n",
    "\n",
    "# While Loop\n",
    "count = 0\n",
    "while count < 5:\n",
    "    print(count)\n",
    "    count += 1"
   ]
  },
  {
   "cell_type": "markdown",
   "id": "e07a36a7",
   "metadata": {},
   "source": [
    "## 5. Functions\n",
    "\n",
    "A function is a block of reusable code that performs a specific task. Functions help in organizing code into smaller, manageable sections.\n",
    "\n",
    "- **Defining a Function**: Use the `def` keyword, followed by the function name and parentheses.\n",
    "- **Calling a Function**: Use the function name followed by parentheses, with any required arguments inside."
   ]
  },
  {
   "cell_type": "code",
   "execution_count": 5,
   "id": "6c794eab",
   "metadata": {},
   "outputs": [
    {
     "name": "stdout",
     "output_type": "stream",
     "text": [
      "Hello, Alice!\n",
      "Hello, Bob!\n"
     ]
    }
   ],
   "source": [
    "# Defining a Function\n",
    "def greet(name):\n",
    "    return \"Hello, \" + name + \"!\"\n",
    "\n",
    "# Calling a Function\n",
    "print(greet(\"Alice\"))\n",
    "print(greet(\"Bob\"))"
   ]
  },
  {
   "cell_type": "markdown",
   "id": "0ef4312e",
   "metadata": {},
   "source": [
    "## 6. Introduction to Libraries\n",
    "\n",
    "## Library\n",
    "A library is a collection of precompiled routines that a program can use. Python's libraries extend its capabilities and simplify coding for various tasks.\n",
    "\n",
    "### NumPy\n",
    "NumPy is a library for numerical operations in Python. It provides support for arrays, matrices, and many mathematical functions.\n",
    "\n",
    "### Pandas\n",
    "Pandas is a library for data manipulation and analysis. It provides data structures like Series (one-dimensional) and DataFrame (two-dimensional)."
   ]
  },
  {
   "cell_type": "code",
   "execution_count": 6,
   "id": "d272554c",
   "metadata": {},
   "outputs": [
    {
     "name": "stdout",
     "output_type": "stream",
     "text": [
      "NumPy Array: [1 2 3 4 5]\n",
      "Pandas DataFrame:\n",
      "       Name  Age         City\n",
      "0    Alice   25     New York\n",
      "1      Bob   30  Los Angeles\n",
      "2  Charlie   35      Chicago\n"
     ]
    }
   ],
   "source": [
    "# Importing Libraries\n",
    "import numpy as np\n",
    "import pandas as pd\n",
    "\n",
    "# NumPy Array\n",
    "arr = np.array([1, 2, 3, 4, 5])\n",
    "print(\"NumPy Array:\", arr)\n",
    "\n",
    "# Pandas DataFrame\n",
    "data = {\n",
    "    \"Name\": [\"Alice\", \"Bob\", \"Charlie\"],\n",
    "    \"Age\": [25, 30, 35],\n",
    "    \"City\": [\"New York\", \"Los Angeles\", \"Chicago\"]\n",
    "}\n",
    "df = pd.DataFrame(data)\n",
    "print(\"Pandas DataFrame:\\n\", df)"
   ]
  },
  {
   "cell_type": "markdown",
   "id": "a9750bae",
   "metadata": {},
   "source": [
    "## 7. Data Visualization with Matplotlib\n",
    "\n",
    "## Data Visualization\n",
    "Data visualization is the graphical representation of information and data. It helps to understand trends, patterns, and insights from the data.\n",
    "\n",
    "### Matplotlib\n",
    "Matplotlib is a plotting library for Python that provides a MATLAB-like interface. It allows for creating static, animated, and interactive visualizations."
   ]
  },
  {
   "cell_type": "code",
   "execution_count": 7,
   "id": "bd0faf1d",
   "metadata": {},
   "outputs": [
    {
     "data": {
      "image/png": "[encoded data removed]",
      "text/plain": [
       "<Figure size 432x288 with 1 Axes>"
      ]
     },
     "metadata": {
      "needs_background": "light"
     },
     "output_type": "display_data"
    }
   ],
   "source": [
    "# Importing Matplotlib\n",
    "import matplotlib.pyplot as plt\n",
    "\n",
    "# Creating a Simple Plot\n",
    "x = [1, 2, 3, 4, 5]\n",
    "y = [2, 4, 6, 8, 10]\n",
    "\n",
    "plt.plot(x, y)\n",
    "plt.title(\"Simple Line Plot\")\n",
    "plt.xlabel(\"X-axis\")\n",
    "plt.ylabel(\"Y-axis\")\n",
    "plt.show()"
   ]
  },
  {
   "cell_type": "markdown",
   "id": "ae19cf51",
   "metadata": {},
   "source": [
    "## 8. Jupyter Notebook Basics\n",
    "\n",
    "Jupyter Notebook allows you to create and share documents that contain live code, equations, visualizations, and narrative text. It's an excellent tool for data exploration and analysis.\n",
    "\n",
    "## Markdown Cells\n",
    "Markdown cells are used for text, explanations, and documentation. You can use Markdown syntax to format text, add headings, bullet points, links, images, and more.\n",
    "\n",
    "## Code Cells\n",
    "Code cells are used to write and execute Python code. The output is displayed directly below the cell.\n",
    "\n",
    "### Example of Markdown\n",
    "- **Bold Text**: `**Bold Text**` or `__Bold Text__`\n",
    "- *Italic Text*: `*Italic Text*` or `_Italic Text_`\n",
    "- [Link](https://www.python.org): `[Link](https://www.python.org)`\n",
    "- `Code`: `` `Code` ``\n",
    "- Headings: `# Heading 1`, `## Heading 2`, `### Heading 3`\n"
   ]
  },
  {
   "cell_type": "markdown",
   "id": "4bafd551",
   "metadata": {},
   "source": [
    "## 9. Conclusion\n",
    "\n",
    "You've been introduced to the basics of Python and how to use Jupyter Notebook. This foundation will help you as you progress through more complex topics in Python and data science.\n",
    "\n",
    "Happy Coding!"
   ]
  },
  {
   "cell_type": "code",
   "execution_count": null,
   "id": "d0e2ac81",
   "metadata": {},
   "outputs": [],
   "source": []
  }
 ],
 "metadata": {
  "kernelspec": {
   "display_name": "Python 3 (ipykernel)",
   "language": "python",
   "name": "python3"
  },
  "language_info": {
   "codemirror_mode": {
    "name": "ipython",
    "version": 3
   },
   "file_extension": ".py",
   "mimetype": "text/x-python",
   "name": "python",
   "nbconvert_exporter": "python",
   "pygments_lexer": "ipython3",
   "version": "3.9.12"
  }
 },
 "nbformat": 4,
 "nbformat_minor": 5
}
